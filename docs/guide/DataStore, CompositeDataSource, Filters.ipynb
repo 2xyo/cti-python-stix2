{
 "cells": [
  {
   "cell_type": "markdown",
   "metadata": {},
   "source": [
    "# DataStore API\n",
    "\n",
    "CTI Python STIX2 features a new interface for pulling and pushing STIX2 content. The new interface consists of DataStore, DataSource and DataSink constructs: a DataSource for pulling STIX2 content, a DataSink for pushing STIX2 content, and a DataStore for pulling/pushing.\n",
    "\n",
    "### DataSource API (snapshot)\n",
    "* **get()**          - search/retrieve most current STIX SDO/SRO via its ID\n",
    "* **all_versions()** - search/retrieve all versions of STIX SDO/SRO via its id\n",
    "* **query()**       - search/retrieve STIX SDO/SRO(s) via search filters\n",
    "* **add_filters()**  - attach filter(s) to the DataSource\n",
    " \n",
    "### DataSink API (snapshot)\n",
    "* **add()** - add a set of STIX SDO/SRO to a target endpoint.\n",
    " \n",
    "### DataStore API (snapshot)  \n",
    "\n",
    "(super set of the DataSource and DataSink)\n",
    "* **get()**\n",
    "* **all_versions()**\n",
    "* **query()**\n",
    "* **add_filters()**\n",
    "* **add()**\n",
    "\n",
    "The DataStore, DataSource, DataSink (referred to as \"DataStore suite\") APIs are not referenced directly by a user but are used as base classes, which are then sublcassed into real DataStore suite(s). CTI Python STIX2 provides for the DataStore suites of **FileSystem**, **Memory**, and **TAXII**. Users are also encrouraged subclassing the base Data suite and creating their own custom DataStore suites."
   ]
  },
  {
   "cell_type": "markdown",
   "metadata": {},
   "source": [
    "## CompositeDataSource\n",
    "\n",
    "**CompositeDataSource** is an available controller that can be used as a single interface to a set of defined DataSources. The purpose of this controller is allow for the grouping of **DataSources** and making get/query calls to a set of DataSources in one API call. **CompositeDataSource** can be used to organize/group **DataSources**, federate get()/all_versions()/query() calls, and reduce user code.\n",
    "\n",
    "**CompositeDataSource** is just a wrapper around a set of defined **DataSources** (e.g. FileSystemSource) that federates get()/all_versions()/query() calls individually to each of the attached **DataSources** , collects the results from each **DataSource** and returns them.\n",
    "\n",
    "Filters can be attached to **CompositeDataSources** just as they can be done to **DataStores** and **DataSources**. When get()/all_versions()/query() calls are made to the **CompositeDataSource**, it will pass along any query filters from the call and any of its own filters to the attached **DataSources**. To which, those attached **DataSources** may have their own attached filters as well. The effect is that all the filters are eventually combined when the get()/all_versions()/query() call is actually executed within a **DataSource**. \n",
    "\n",
    "A **CompositeDataSource** can also be attached to a **CompositeDataSource** for multiple layers of grouped **DataSources**.\n",
    "\n",
    "\n",
    "### CompositeDataSource API (snapshot)\n",
    "\n",
    "* **get()**          - search/retrieve from CompositeDataSource most current STIX object via its ID\n",
    "* **all_versions()** - search/retrieve from CompositeDataSource all versions of STIX object via its ID\n",
    "* **query()**        - search/retrieve from CompositeDataSource STIX object(s) via search filters\n",
    "* **add_data_source()** - Attach a DataSource to the CompositeDataSource\n",
    "* **remove_data_source()** - Remove DataSource from the CompositeDataSource\n",
    "* **add_filters()**  - attach filter(s) to the CompositeDataSource\n",
    "\n",
    "### CompositeDataSource Examples\n"
   ]
  },
  {
   "cell_type": "code",
   "execution_count": 1,
   "metadata": {},
   "outputs": [],
   "source": [
    "import sys\n",
    "sys.path.append(\"/home/michael/oasis-python-stix2/cti-python-stix2/\")\n",
    "sys.path\n",
    "\n",
    "from stix2 import CompositeDataSource, FileSystemStore\n",
    "\n",
    "\n",
    "# TO BE COMPLETED, WAITING ON TAXIICollection,\n",
    "# want to put a TAXIICollection in here"
   ]
  },
  {
   "cell_type": "markdown",
   "metadata": {},
   "source": [
    "## Filters\n",
    "\n",
    "The CTI Python STIX2 **DataStore** suites, to include **FileSystem**, **Memory** and **TAXII** all use the **Filters** module to allow for the querying of STIX content. The basic functionality is that filters can be created and supplied everytime to calls to **query()**, and/or attached to a **DataStore** so that every future query placed to that **DataStore** is evaluated against the attached filters, supplemented with any further filters supplied with the query call. Attached filters can also be removed from **DataStores**.\n",
    "\n",
    "Filters are very simple, as they consist of a STIX object common property name, comparison operator and an object property value (i.e. value to compare to). Currently, CTI Python STIX2 supports **ONLY** STIX 2 object common properties:\n",
    "\n",
    "* created\n",
    "* created_by_ref\n",
    "* external_references.source_name\n",
    "* external_references.description\n",
    "* external_references.url\n",
    "* external_references.external_id\n",
    "* granular_markings.marking_ref\n",
    "* granular_markings.selectors\n",
    "* id\n",
    "* labels\n",
    "* modified\n",
    "* object_marking_refs\n",
    "* revoked\n",
    "* type\n",
    "\n",
    "Supported operators on these properties:\n",
    "\n",
    "* =\n",
    "* !=\n",
    "* in\n",
    "* >\n",
    "* < \n",
    "* ```>=```\n",
    "* <=\n",
    "\n",
    "To align with STIX 2 object common properties, the value types of the common property values must be one of these (python) types:\n",
    "\n",
    "* bool\n",
    "* dict\n",
    "* float\n",
    "* int\n",
    "* list\n",
    "* str\n",
    "* tuple\n",
    "\n",
    "### Filter Examples"
   ]
  },
  {
   "cell_type": "code",
   "execution_count": 2,
   "metadata": {},
   "outputs": [],
   "source": [
    "import sys\n",
    "sys.path.append(\"/home/michael/oasis-python-stix2/cti-python-stix2/\")\n",
    "sys.path\n",
    "from stix2 import Filter\n",
    "\n",
    "# create filter for STIX objects that have external references to MITRE ATT&CK framework\n",
    "f = Filter(\"external_references.source_name\", \"=\", \"mitre-attack\")\n",
    "\n",
    "# create filter for STIX objects that are not of SDO type Attack-Pattnern\n",
    "f1 = Filter(\"type\", \"!=\", \"attack-pattern\")\n",
    "\n",
    "# create filter for STIX objects that have the \"threat-report\" label\n",
    "f2 = Filter(\"labels\", \"in\", \"threat-report\")\n",
    "\n",
    "# create filter for STIX objects that have been modified past the timestamp\n",
    "f3 = Filter(\"modified\", \">=\", \"2017-01-28T21:33:10.772474Z\")\n",
    "\n",
    "# create filter for STIX objects that have been revoked\n",
    "f4 = Filter(\"revoked\", \"=\", True)"
   ]
  },
  {
   "cell_type": "markdown",
   "metadata": {},
   "source": [
    "For Filters to be applied to a query, they must be either supplied with the query call or attached a **DataStore**, more specifically to **DataSource** whether that **DataSource** is a part of a **DataStore** or stands by itself. "
   ]
  },
  {
   "cell_type": "code",
   "execution_count": 3,
   "metadata": {},
   "outputs": [],
   "source": [
    "from stix2 import MemoryStore, FileSystemStore, FileSystemSource\n",
    "\n",
    "fs = FileSystemStore(\"/home/michael/Desktop/sample_stix2_data\")\n",
    "fs_source = FileSystemSource(\"/home/michael/Desktop/sample_stix2_data\")\n",
    "\n",
    "# attach filter to FileSystemStore\n",
    "fs.add_filters(f)\n",
    "\n",
    "# attach multiple filters to FileSystemStore\n",
    "fs.add_filters([f1,f2])\n",
    "\n",
    "# can also attach filters to a Source\n",
    "# attach multiple filters to FileSystemSource\n",
    "fs_source.add_filters([f3, f4])\n",
    "\n",
    "\n",
    "mem = MemoryStore()\n",
    "\n",
    "# As it is impractical to only use MemorySink or MemorySource,\n",
    "# attach a filter to a MemoryStore\n",
    "mem.add_filters(f)\n",
    "\n",
    "# attach multiple filters to a MemoryStore\n",
    "mem.add_filters([f1,f2])"
   ]
  },
  {
   "cell_type": "code",
   "execution_count": null,
   "metadata": {
    "collapsed": true
   },
   "outputs": [],
   "source": []
  }
 ],
 "metadata": {
  "kernelspec": {
   "display_name": "cti-python-stix2",
   "language": "python",
   "name": "cti-python-stix2"
  },
  "language_info": {
   "codemirror_mode": {
    "name": "ipython",
    "version": 2
   },
   "file_extension": ".py",
   "mimetype": "text/x-python",
   "name": "python",
   "nbconvert_exporter": "python",
   "pygments_lexer": "ipython2",
   "version": "2.7.12"
  }
 },
 "nbformat": 4,
 "nbformat_minor": 2
}
